{
  "cells": [
    {
      "cell_type": "code",
      "execution_count": 1,
      "metadata": {
        "id": "mHoOyqXl6cNC"
      },
      "outputs": [],
      "source": [
        "import pandas as pd\n",
        "import numpy as np\n",
        "import matplotlib.pyplot as plt\n",
        "import seaborn as sns\n",
        "from scipy.stats import normaltest\n",
        "from statsmodels.tsa.stattools import acf,pacf\n",
        "from sklearn.metrics import mean_squared_error, mean_absolute_error\n",
        "import tensorflow as tf"
      ]
    },
    {
      "cell_type": "markdown",
      "metadata": {
        "id": "CE4ohEaWJKo-"
      },
      "source": [
        "# Importing Data Sets"
      ]
    },
    {
      "cell_type": "code",
      "execution_count": 2,
      "metadata": {
        "id": "a-m6KvF7HdkI"
      },
      "outputs": [],
      "source": [
        "df1 = pd.read_csv(\"./data/SPX_Real.csv\", index_col=False)\n",
        "df1.columns = ['Timestamp', 'Close']\n",
        "df1.set_index(\"Timestamp\", inplace=True)\n",
        "df1.index = pd.to_datetime(df1.index, format='%d-%m-%Y')\n",
        "df2 = pd.read_csv(\"./data/AAPL_Real.csv\")\n",
        "df2.columns = ['Timestamp', 'Close']\n",
        "df2.set_index(\"Timestamp\", inplace=True)\n",
        "df2.index = pd.to_datetime(df2.index, format='%d-%m-%Y')\n",
        "df3 = pd.read_csv(\"./data/TWSE_Real.csv\")\n",
        "df3.columns = ['Timestamp', 'Close']\n",
        "df3.set_index(\"Timestamp\", inplace=True)\n",
        "df3.index = pd.to_datetime(df3.index, format='%m/%d/%Y')"
      ]
    },
    {
      "cell_type": "code",
      "execution_count": 3,
      "metadata": {},
      "outputs": [],
      "source": [
        "from sklearn.preprocessing import MinMaxScaler"
      ]
    },
    {
      "cell_type": "code",
      "execution_count": null,
      "metadata": {},
      "outputs": [],
      "source": [
        "def create_dataset(series, window_size, pred_length):\n",
        "    X, y = [], []\n",
        "    for i in range(len(series) - window_size - pred_length + 1):\n",
        "        X.append(series[i : i + window_size])\n",
        "        y.append(series[i + window_size : i + window_size + pred_length])\n",
        "    return np.array(X), np.array(y)\n",
        "\n"
      ]
    },
    {
      "cell_type": "code",
      "execution_count": null,
      "metadata": {},
      "outputs": [],
      "source": [
        "def get_data_for_period(df, window_size = 20, pred_length = 1):\n",
        "\n",
        "    \n",
        "    val_start = int(len(df) * 0.8)\n",
        "    test_start = val_start + int(len(df) * 0.1)\n",
        "    train_data = df.iloc[:val_start]\n",
        "    val_data   = df.iloc[val_start:test_start]\n",
        "    test_data  = df.iloc[test_start:]\n",
        "\n",
        "    scaler = MinMaxScaler(feature_range=(0, 1))\n",
        "    train_values = train_data['Close'].values.reshape(-1, 1)\n",
        "    scaler.fit(train_values)\n",
        "    \n",
        "    train_scaled = scaler.transform(train_data['Close'].values.reshape(-1, 1)).flatten()\n",
        "    val_scaled   = scaler.transform(val_data['Close'].values.reshape(-1, 1)).flatten()\n",
        "    test_scaled  = scaler.transform(test_data['Close'].values.reshape(-1, 1)).flatten()\n",
        "    \n",
        "    X_train, y_train = create_dataset(train_scaled, window_size, pred_length)\n",
        "    X_val, y_val     = create_dataset(val_scaled, window_size, pred_length)\n",
        "    X_test, y_test   = create_dataset(test_scaled, window_size, pred_length)\n",
        "    X_train = X_train.reshape((X_train.shape[0], X_train.shape[1], 1))\n",
        "    X_val   = X_val.reshape((X_val.shape[0], X_val.shape[1], 1))\n",
        "    X_test  = X_test.reshape((X_test.shape[0], X_test.shape[1], 1))\n",
        "    \n",
        "    return (X_train, y_train), (X_val, y_val), (X_test, y_test), scaler"
      ]
    },
    {
      "cell_type": "code",
      "execution_count": 6,
      "metadata": {},
      "outputs": [],
      "source": [
        "dfs = {'SPX': df1, 'AAPL': df2, 'TWSE': df3}"
      ]
    },
    {
      "cell_type": "code",
      "execution_count": 7,
      "metadata": {},
      "outputs": [],
      "source": [
        "from tensorflow.keras.layers import Dense, Dropout, LSTM\n",
        "from tensorflow.keras.models import Sequential\n",
        "from tensorflow.keras.callbacks import EarlyStopping"
      ]
    },
    {
      "cell_type": "code",
      "execution_count": null,
      "metadata": {},
      "outputs": [],
      "source": [
        "import tensorflow as tf\n",
        "from tensorflow.keras.models import Sequential\n",
        "from tensorflow.keras.layers import LSTM, Dropout, Dense, Bidirectional\n",
        "import keras_tuner as kt\n",
        "\n",
        "def build_model(hp):\n",
        "    model = Sequential()\n",
        "    \n",
        "    num_layers = hp.Int('num_layers', min_value=1, max_value=4, step=1)\n",
        "    \n",
        "    \n",
        "    for i in range(num_layers):\n",
        "        \n",
        "        if i == 0:\n",
        "            model.add(Bidirectional(LSTM(units=hp.Int(f'bilstm_units_{i}', min_value=30, max_value=100, step=10),\n",
        "                                         activation='relu',\n",
        "                                         return_sequences=(num_layers > 1)),  \n",
        "                                         input_shape=(X_train.shape[1], 1)))\n",
        "        else:\n",
        "            \n",
        "            return_seq = (i < num_layers - 1)\n",
        "            model.add(Bidirectional(LSTM(units=hp.Int(f'bilstm_units_{i}', min_value=30, max_value=100, step=10),\n",
        "                                         activation='relu',\n",
        "                                         return_sequences=return_seq)))\n",
        "        \n",
        "        dropout_rate = hp.Float(f'dropout_rate_{i}', min_value=0.1, max_value=0.5, step=0.1)\n",
        "        model.add(Dropout(dropout_rate))\n",
        "    \n",
        "    \n",
        "    model.add(Dense(units=pred_length))\n",
        "    \n",
        "    \n",
        "    lr = hp.Float('lr', min_value=1e-4, max_value=1e-2, sampling='LOG')\n",
        "    model.compile(optimizer=tf.keras.optimizers.Adam(learning_rate=lr), loss='mse', metrics=['mape'])\n",
        "    return model\n",
        "\n",
        "def search(X_train, y_train, X_val, y_val, name, pred_length):\n",
        "    \n",
        "    tuner = kt.RandomSearch(\n",
        "        build_model,\n",
        "        objective='val_loss',\n",
        "        max_trials=15,\n",
        "        executions_per_trial=1,\n",
        "        directory='final_Bilstm_tuner_dir',\n",
        "        project_name=f'stock_forecasting_{name}_pred_length_{pred_length}'\n",
        "    )\n",
        "\n",
        "    \n",
        "    tuner.search(X_train, y_train,\n",
        "                epochs=50,\n",
        "                batch_size=32,\n",
        "                validation_data=(X_val, y_val),\n",
        "                callbacks=[tf.keras.callbacks.EarlyStopping(monitor='val_loss', patience=5)])\n",
        "                \n",
        "    \n",
        "    return tuner"
      ]
    },
    {
      "cell_type": "code",
      "execution_count": 9,
      "metadata": {},
      "outputs": [],
      "source": [
        "from sklearn.metrics import mean_squared_error, mean_absolute_percentage_error, r2_score, mean_absolute_error"
      ]
    },
    {
      "cell_type": "code",
      "execution_count": 14,
      "metadata": {},
      "outputs": [
        {
          "name": "stdout",
          "output_type": "stream",
          "text": [
            "Trial 19 Complete [00h 04m 29s]\n",
            "val_loss: 0.005948642734438181\n",
            "\n",
            "Best val_loss So Far: 0.000554748170543462\n",
            "Total elapsed time: 13h 06m 26s\n"
          ]
        },
        {
          "name": "stderr",
          "output_type": "stream",
          "text": [
            "/Users/sunilcotterill/Library/Python/3.10/lib/python/site-packages/keras/src/layers/rnn/bidirectional.py:107: UserWarning: Do not pass an `input_shape`/`input_dim` argument to a layer. When using Sequential models, prefer using an `Input(shape)` object as the first layer in the model instead.\n",
            "  super().__init__(**kwargs)\n",
            "/Users/sunilcotterill/Library/Python/3.10/lib/python/site-packages/keras/src/saving/saving_lib.py:713: UserWarning: Skipping variable loading for optimizer 'adam', because it has 2 variables whereas the saved optimizer has 18 variables. \n",
            "  saveable.load_own_variables(weights_store.get(inner_path))\n"
          ]
        },
        {
          "name": "stdout",
          "output_type": "stream",
          "text": [
            "\u001b[1m26/26\u001b[0m \u001b[32m━━━━━━━━━━━━━━━━━━━━\u001b[0m\u001b[37m\u001b[0m \u001b[1m1s\u001b[0m 18ms/step\n",
            "SPX MAPE: 0.0559972%\n",
            "SPX MSE: 138623.66658\n",
            "SPX R2: 0.67835\n",
            "SPX MAE: 279.52907\n",
            "Reloading Tuner from final_Bilstm_tuner_dir/stock_forecasting_SPX_pred_length_5/tuner0.json\n"
          ]
        },
        {
          "name": "stderr",
          "output_type": "stream",
          "text": [
            "/Users/sunilcotterill/Library/Python/3.10/lib/python/site-packages/keras/src/layers/rnn/bidirectional.py:107: UserWarning: Do not pass an `input_shape`/`input_dim` argument to a layer. When using Sequential models, prefer using an `Input(shape)` object as the first layer in the model instead.\n",
            "  super().__init__(**kwargs)\n",
            "/Users/sunilcotterill/Library/Python/3.10/lib/python/site-packages/keras/src/saving/saving_lib.py:713: UserWarning: Skipping variable loading for optimizer 'adam', because it has 2 variables whereas the saved optimizer has 18 variables. \n",
            "  saveable.load_own_variables(weights_store.get(inner_path))\n"
          ]
        },
        {
          "name": "stdout",
          "output_type": "stream",
          "text": [
            "\u001b[1m26/26\u001b[0m \u001b[32m━━━━━━━━━━━━━━━━━━━━\u001b[0m\u001b[37m\u001b[0m \u001b[1m0s\u001b[0m 10ms/step\n",
            "SPX MAPE: 0.0607763%\n",
            "SPX MSE: 116841.65295\n",
            "SPX R2: 0.72680\n",
            "SPX MAE: 288.49762\n",
            "Reloading Tuner from final_Bilstm_tuner_dir/stock_forecasting_SPX_pred_length_10/tuner0.json\n"
          ]
        },
        {
          "name": "stderr",
          "output_type": "stream",
          "text": [
            "/Users/sunilcotterill/Library/Python/3.10/lib/python/site-packages/keras/src/layers/rnn/bidirectional.py:107: UserWarning: Do not pass an `input_shape`/`input_dim` argument to a layer. When using Sequential models, prefer using an `Input(shape)` object as the first layer in the model instead.\n",
            "  super().__init__(**kwargs)\n",
            "/Users/sunilcotterill/Library/Python/3.10/lib/python/site-packages/keras/src/saving/saving_lib.py:713: UserWarning: Skipping variable loading for optimizer 'adam', because it has 2 variables whereas the saved optimizer has 18 variables. \n",
            "  saveable.load_own_variables(weights_store.get(inner_path))\n"
          ]
        },
        {
          "name": "stdout",
          "output_type": "stream",
          "text": [
            "\u001b[1m26/26\u001b[0m \u001b[32m━━━━━━━━━━━━━━━━━━━━\u001b[0m\u001b[37m\u001b[0m \u001b[1m1s\u001b[0m 14ms/step\n",
            "SPX MAPE: 58.0411026%\n",
            "SPX MSE: 1275903986451.40479\n",
            "SPX R2: -3006606.14683\n",
            "SPX MAE: 340157.53777\n",
            "Reloading Tuner from final_Bilstm_tuner_dir/stock_forecasting_AAPL_pred_length_1/tuner0.json\n"
          ]
        },
        {
          "name": "stderr",
          "output_type": "stream",
          "text": [
            "/Users/sunilcotterill/Library/Python/3.10/lib/python/site-packages/keras/src/layers/rnn/bidirectional.py:107: UserWarning: Do not pass an `input_shape`/`input_dim` argument to a layer. When using Sequential models, prefer using an `Input(shape)` object as the first layer in the model instead.\n",
            "  super().__init__(**kwargs)\n",
            "/Users/sunilcotterill/Library/Python/3.10/lib/python/site-packages/keras/src/saving/saving_lib.py:713: UserWarning: Skipping variable loading for optimizer 'adam', because it has 2 variables whereas the saved optimizer has 30 variables. \n",
            "  saveable.load_own_variables(weights_store.get(inner_path))\n"
          ]
        },
        {
          "name": "stdout",
          "output_type": "stream",
          "text": [
            "\u001b[1m26/26\u001b[0m \u001b[32m━━━━━━━━━━━━━━━━━━━━\u001b[0m\u001b[37m\u001b[0m \u001b[1m1s\u001b[0m 27ms/step\n",
            "AAPL MAPE: 0.0293740%\n",
            "AAPL MSE: 85.71351\n",
            "AAPL R2: 0.90098\n",
            "AAPL MAE: 5.70277\n",
            "Reloading Tuner from final_Bilstm_tuner_dir/stock_forecasting_AAPL_pred_length_5/tuner0.json\n"
          ]
        },
        {
          "name": "stderr",
          "output_type": "stream",
          "text": [
            "/Users/sunilcotterill/Library/Python/3.10/lib/python/site-packages/keras/src/layers/rnn/bidirectional.py:107: UserWarning: Do not pass an `input_shape`/`input_dim` argument to a layer. When using Sequential models, prefer using an `Input(shape)` object as the first layer in the model instead.\n",
            "  super().__init__(**kwargs)\n",
            "/Users/sunilcotterill/Library/Python/3.10/lib/python/site-packages/keras/src/saving/saving_lib.py:713: UserWarning: Skipping variable loading for optimizer 'adam', because it has 2 variables whereas the saved optimizer has 30 variables. \n",
            "  saveable.load_own_variables(weights_store.get(inner_path))\n"
          ]
        },
        {
          "name": "stdout",
          "output_type": "stream",
          "text": [
            "\u001b[1m26/26\u001b[0m \u001b[32m━━━━━━━━━━━━━━━━━━━━\u001b[0m\u001b[37m\u001b[0m \u001b[1m1s\u001b[0m 22ms/step\n",
            "AAPL MAPE: 0.5161816%\n",
            "AAPL MSE: 64585.66817\n",
            "AAPL R2: -73.94128\n",
            "AAPL MAE: 114.38087\n",
            "Reloading Tuner from final_Bilstm_tuner_dir/stock_forecasting_AAPL_pred_length_10/tuner0.json\n"
          ]
        },
        {
          "name": "stderr",
          "output_type": "stream",
          "text": [
            "/Users/sunilcotterill/Library/Python/3.10/lib/python/site-packages/keras/src/layers/rnn/bidirectional.py:107: UserWarning: Do not pass an `input_shape`/`input_dim` argument to a layer. When using Sequential models, prefer using an `Input(shape)` object as the first layer in the model instead.\n",
            "  super().__init__(**kwargs)\n",
            "/Users/sunilcotterill/Library/Python/3.10/lib/python/site-packages/keras/src/saving/saving_lib.py:713: UserWarning: Skipping variable loading for optimizer 'adam', because it has 2 variables whereas the saved optimizer has 18 variables. \n",
            "  saveable.load_own_variables(weights_store.get(inner_path))\n"
          ]
        },
        {
          "name": "stdout",
          "output_type": "stream",
          "text": [
            "\u001b[1m26/26\u001b[0m \u001b[32m━━━━━━━━━━━━━━━━━━━━\u001b[0m\u001b[37m\u001b[0m \u001b[1m1s\u001b[0m 15ms/step\n",
            "AAPL MAPE: 0.0506202%\n",
            "AAPL MSE: 129.45896\n",
            "AAPL R2: 0.84866\n",
            "AAPL MAE: 8.90766\n",
            "Reloading Tuner from final_Bilstm_tuner_dir/stock_forecasting_TWSE_pred_length_1/tuner0.json\n"
          ]
        },
        {
          "name": "stderr",
          "output_type": "stream",
          "text": [
            "/Users/sunilcotterill/Library/Python/3.10/lib/python/site-packages/keras/src/layers/rnn/bidirectional.py:107: UserWarning: Do not pass an `input_shape`/`input_dim` argument to a layer. When using Sequential models, prefer using an `Input(shape)` object as the first layer in the model instead.\n",
            "  super().__init__(**kwargs)\n",
            "/Users/sunilcotterill/Library/Python/3.10/lib/python/site-packages/keras/src/saving/saving_lib.py:713: UserWarning: Skipping variable loading for optimizer 'adam', because it has 2 variables whereas the saved optimizer has 18 variables. \n",
            "  saveable.load_own_variables(weights_store.get(inner_path))\n"
          ]
        },
        {
          "name": "stdout",
          "output_type": "stream",
          "text": [
            "\u001b[1m27/27\u001b[0m \u001b[32m━━━━━━━━━━━━━━━━━━━━\u001b[0m\u001b[37m\u001b[0m \u001b[1m1s\u001b[0m 12ms/step\n",
            "TWSE MAPE: 0.0099916%\n",
            "TWSE MSE: 56915.37834\n",
            "TWSE R2: 0.99291\n",
            "TWSE MAE: 177.93915\n",
            "Reloading Tuner from final_Bilstm_tuner_dir/stock_forecasting_TWSE_pred_length_5/tuner0.json\n"
          ]
        },
        {
          "name": "stderr",
          "output_type": "stream",
          "text": [
            "/Users/sunilcotterill/Library/Python/3.10/lib/python/site-packages/keras/src/layers/rnn/bidirectional.py:107: UserWarning: Do not pass an `input_shape`/`input_dim` argument to a layer. When using Sequential models, prefer using an `Input(shape)` object as the first layer in the model instead.\n",
            "  super().__init__(**kwargs)\n",
            "/Users/sunilcotterill/Library/Python/3.10/lib/python/site-packages/keras/src/saving/saving_lib.py:713: UserWarning: Skipping variable loading for optimizer 'adam', because it has 2 variables whereas the saved optimizer has 18 variables. \n",
            "  saveable.load_own_variables(weights_store.get(inner_path))\n"
          ]
        },
        {
          "name": "stdout",
          "output_type": "stream",
          "text": [
            "\u001b[1m27/27\u001b[0m \u001b[32m━━━━━━━━━━━━━━━━━━━━\u001b[0m\u001b[37m\u001b[0m \u001b[1m1s\u001b[0m 12ms/step\n",
            "TWSE MAPE: 0.0205818%\n",
            "TWSE MSE: 284561.86748\n",
            "TWSE R2: 0.96438\n",
            "TWSE MAE: 380.66218\n",
            "Reloading Tuner from final_Bilstm_tuner_dir/stock_forecasting_TWSE_pred_length_10/tuner0.json\n"
          ]
        },
        {
          "name": "stderr",
          "output_type": "stream",
          "text": [
            "/Users/sunilcotterill/Library/Python/3.10/lib/python/site-packages/keras/src/layers/rnn/bidirectional.py:107: UserWarning: Do not pass an `input_shape`/`input_dim` argument to a layer. When using Sequential models, prefer using an `Input(shape)` object as the first layer in the model instead.\n",
            "  super().__init__(**kwargs)\n",
            "/Users/sunilcotterill/Library/Python/3.10/lib/python/site-packages/keras/src/saving/saving_lib.py:713: UserWarning: Skipping variable loading for optimizer 'adam', because it has 2 variables whereas the saved optimizer has 18 variables. \n",
            "  saveable.load_own_variables(weights_store.get(inner_path))\n"
          ]
        },
        {
          "name": "stdout",
          "output_type": "stream",
          "text": [
            "\u001b[1m27/27\u001b[0m \u001b[32m━━━━━━━━━━━━━━━━━━━━\u001b[0m\u001b[37m\u001b[0m \u001b[1m1s\u001b[0m 16ms/step\n",
            "TWSE MAPE: 0.0495397%\n",
            "TWSE MSE: 1089934.20356\n",
            "TWSE R2: 0.86301\n",
            "TWSE MAE: 905.28916\n"
          ]
        }
      ],
      "source": [
        "# Window Size was 115\n",
        "window_size = 55\n",
        "res = []\n",
        "for name in dfs:\n",
        "    for pred_length in [1, 5, 10]:\n",
        "        (X_train, y_train), (X_val, y_val), (X_test, y_test), scaler = get_data_for_period(dfs[name], window_size, pred_length)\n",
        "        tuner = search(X_train, y_train, X_val, y_val, name, pred_length)\n",
        "\n",
        "        real_y = scaler.inverse_transform(y_test.reshape(-1, 1))\n",
        "        best_model = tuner.get_best_models(num_models=1)[0]\n",
        "        pred_y = best_model.predict(X_test).flatten().reshape(-1, 1)\n",
        "        adjusted_pred = scaler.inverse_transform(pred_y)\n",
        "\n",
        "        test_dates = dfs[name].index[-len(y_test):]\n",
        "\n",
        "        mape = mean_absolute_percentage_error(real_y, adjusted_pred)\n",
        "        mse = mean_squared_error(real_y, adjusted_pred)\n",
        "        r2 = r2_score(real_y, adjusted_pred)\n",
        "        mae = mean_absolute_error(real_y, adjusted_pred)\n",
        "        print(f\"{name} MAPE: {mape:.7f}%\")\n",
        "        print(f\"{name} MSE: {mse:.5f}\")\n",
        "        print(f\"{name} R2: {r2:.5f}\")\n",
        "        print(f\"{name} MAE: {mae:.5f}\")\n",
        "\n",
        "        res.append({\n",
        "            \"DataFrame\": name,\n",
        "            \"Prediction_Size\": pred_length,\n",
        "            \"MAE\": mae,\n",
        "            \"MSE\": mse,\n",
        "            \"MAPE\": mape,\n",
        "            \"r2\": r2\n",
        "        })\n",
        "    \n",
        "    # Plotting\n",
        "#     plt.figure(figsize=(12,8))\n",
        "#     plt.plot(test_dates, real_y, label='Value')\n",
        "#     plt.plot(test_dates, adjusted_pred, label='Prediction')\n",
        "#     plt.title(f\"Return Prediction for {name}\")\n",
        "#     plt.xlabel('Date')\n",
        "#     plt.ylabel('Return ($)')\n",
        "#     handles, labels = plt.gca().get_legend_handles_labels()\n",
        "#     by_label = dict(zip(labels, handles))\n",
        "#     plt.legend(by_label.values(), by_label.keys())\n",
        "# #    plt.legend(bbox_to_anchor=(1.05, 1), loc='upper left', borderaxespad=0)\n",
        "#     plt.show()\n",
        "#     plt.close()\n",
        "\n",
        "results_df = pd.DataFrame(res)\n",
        "results_df.to_csv(\"BiLSTM_errors.csv\", index=False)\n",
        "    \n"
      ]
    }
  ],
  "metadata": {
    "colab": {
      "name": "Stock_price_forecasting.ipynb",
      "provenance": []
    },
    "kernelspec": {
      "display_name": "Python 3",
      "name": "python3"
    },
    "language_info": {
      "codemirror_mode": {
        "name": "ipython",
        "version": 3
      },
      "file_extension": ".py",
      "mimetype": "text/x-python",
      "name": "python",
      "nbconvert_exporter": "python",
      "pygments_lexer": "ipython3",
      "version": "3.10.1"
    }
  },
  "nbformat": 4,
  "nbformat_minor": 0
}
